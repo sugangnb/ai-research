{
  "nbformat": 4,
  "nbformat_minor": 0,
  "metadata": {
    "colab": {
      "name": "Kicked dataset catboost baseline",
      "provenance": [],
      "collapsed_sections": [],
      "include_colab_link": true
    },
    "kernelspec": {
      "display_name": "Python 3",
      "name": "python3"
    }
  },
  "cells": [
    {
      "cell_type": "markdown",
      "metadata": {
        "id": "view-in-github",
        "colab_type": "text"
      },
      "source": [
        "<a href=\"https://colab.research.google.com/github/sugangnb/ai-research/blob/main/colab_notebooks/Kicked_dataset_catboost_baseline.ipynb\" target=\"_parent\"><img src=\"https://colab.research.google.com/assets/colab-badge.svg\" alt=\"Open In Colab\"/></a>"
      ]
    },
    {
      "cell_type": "code",
      "metadata": {
        "colab": {
          "base_uri": "https://localhost:8080/"
        },
        "id": "AzEUtYrSl4XA",
        "outputId": "72590407-ca10-40dd-c24a-08b6ed78705d"
      },
      "source": [
        "!rm -rf kicked_dataset/\r\n",
        "!git clone https://github.com/calibertytz/kicked_dataset.git"
      ],
      "execution_count": null,
      "outputs": [
        {
          "output_type": "stream",
          "text": [
            "Cloning into 'kicked_dataset'...\n",
            "remote: Enumerating objects: 3, done.\u001b[K\n",
            "remote: Counting objects: 100% (3/3), done.\u001b[K\n",
            "remote: Compressing objects: 100% (3/3), done.\u001b[K\n",
            "remote: Total 25 (delta 0), reused 0 (delta 0), pack-reused 22\u001b[K\n",
            "Unpacking objects: 100% (25/25), done.\n"
          ],
          "name": "stdout"
        }
      ]
    },
    {
      "cell_type": "code",
      "metadata": {
        "id": "4sbLOgAul7U5"
      },
      "source": [
        "import pandas as pd\r\n",
        "import numpy as np\r\n",
        "from sklearn.model_selection import train_test_split\r\n",
        "\r\n",
        "df_train = pd.read_csv('kicked_dataset/df_train_final.csv')\r\n",
        "df_test = pd.read_csv('kicked_dataset/df_test_final.csv')\r\n",
        "\r\n",
        "train_X = df_train.drop(columns=['label']).values\r\n",
        "train_Y = df_train['label'].values\r\n",
        "\r\n",
        "X_test = df_test.drop(columns=['label']).values\r\n",
        "Y_test = df_test['label'].values\r\n",
        "\r\n",
        "test_X, val_X, test_Y, val_Y = train_test_split(X_test, Y_test, test_size=0.5, random_state=1) # x_val for updating alpha"
      ],
      "execution_count": null,
      "outputs": []
    },
    {
      "cell_type": "code",
      "metadata": {
        "colab": {
          "base_uri": "https://localhost:8080/"
        },
        "id": "PfhkATBxl_LY",
        "outputId": "c4d63d93-eda2-4886-a16c-0a7695765fdd"
      },
      "source": [
        "!pip install git+https://github.com/rwbfd/OpenCompetitionV2.git"
      ],
      "execution_count": null,
      "outputs": [
        {
          "output_type": "stream",
          "text": [
            "Collecting git+https://github.com/rwbfd/OpenCompetitionV2.git\n",
            "  Cloning https://github.com/rwbfd/OpenCompetitionV2.git to /tmp/pip-req-build-3t340ow9\n",
            "  Running command git clone -q https://github.com/rwbfd/OpenCompetitionV2.git /tmp/pip-req-build-3t340ow9\n",
            "  Running command git submodule update --init --recursive -q\n",
            "Requirement already satisfied (use --upgrade to upgrade): open-competition==0.1 from git+https://github.com/rwbfd/OpenCompetitionV2.git in /usr/local/lib/python3.6/dist-packages\n",
            "Requirement already satisfied: catboost in /usr/local/lib/python3.6/dist-packages (from open-competition==0.1) (0.24.4)\n",
            "Requirement already satisfied: xgboost in /usr/local/lib/python3.6/dist-packages (from open-competition==0.1) (0.90)\n",
            "Requirement already satisfied: lightgbm in /usr/local/lib/python3.6/dist-packages (from open-competition==0.1) (2.2.3)\n",
            "Requirement already satisfied: hyperopt in /usr/local/lib/python3.6/dist-packages (from open-competition==0.1) (0.1.2)\n",
            "Requirement already satisfied: torch in /usr/local/lib/python3.6/dist-packages (from open-competition==0.1) (1.7.0+cu101)\n",
            "Requirement already satisfied: category_encoders in /usr/local/lib/python3.6/dist-packages (from open-competition==0.1) (2.2.2)\n",
            "Requirement already satisfied: thermoencoder in /usr/local/lib/python3.6/dist-packages (from open-competition==0.1) (0.1.2)\n",
            "Requirement already satisfied: scikit-learn in /usr/local/lib/python3.6/dist-packages (from open-competition==0.1) (0.22.2.post1)\n",
            "Requirement already satisfied: pandas in /usr/local/lib/python3.6/dist-packages (from open-competition==0.1) (1.1.5)\n",
            "Requirement already satisfied: numpy in /usr/local/lib/python3.6/dist-packages (from open-competition==0.1) (1.19.5)\n",
            "Requirement already satisfied: shape in /usr/local/lib/python3.6/dist-packages (from open-competition==0.1) (1.0.0)\n",
            "Requirement already satisfied: statsmodels in /usr/local/lib/python3.6/dist-packages (from open-competition==0.1) (0.10.2)\n",
            "Requirement already satisfied: tqdm in /usr/local/lib/python3.6/dist-packages (from open-competition==0.1) (4.41.1)\n",
            "Requirement already satisfied: packaging in /usr/local/lib/python3.6/dist-packages (from open-competition==0.1) (20.8)\n",
            "Requirement already satisfied: cython in /usr/local/lib/python3.6/dist-packages (from open-competition==0.1) (0.29.21)\n",
            "Requirement already satisfied: six in /usr/local/lib/python3.6/dist-packages (from catboost->open-competition==0.1) (1.15.0)\n",
            "Requirement already satisfied: graphviz in /usr/local/lib/python3.6/dist-packages (from catboost->open-competition==0.1) (0.10.1)\n",
            "Requirement already satisfied: scipy in /usr/local/lib/python3.6/dist-packages (from catboost->open-competition==0.1) (1.4.1)\n",
            "Requirement already satisfied: plotly in /usr/local/lib/python3.6/dist-packages (from catboost->open-competition==0.1) (4.4.1)\n",
            "Requirement already satisfied: matplotlib in /usr/local/lib/python3.6/dist-packages (from catboost->open-competition==0.1) (3.2.2)\n",
            "Requirement already satisfied: pymongo in /usr/local/lib/python3.6/dist-packages (from hyperopt->open-competition==0.1) (3.11.2)\n",
            "Requirement already satisfied: networkx in /usr/local/lib/python3.6/dist-packages (from hyperopt->open-competition==0.1) (2.5)\n",
            "Requirement already satisfied: future in /usr/local/lib/python3.6/dist-packages (from hyperopt->open-competition==0.1) (0.16.0)\n",
            "Requirement already satisfied: dataclasses in /usr/local/lib/python3.6/dist-packages (from torch->open-competition==0.1) (0.8)\n",
            "Requirement already satisfied: typing-extensions in /usr/local/lib/python3.6/dist-packages (from torch->open-competition==0.1) (3.7.4.3)\n",
            "Requirement already satisfied: patsy>=0.5.1 in /usr/local/lib/python3.6/dist-packages (from category_encoders->open-competition==0.1) (0.5.1)\n",
            "Requirement already satisfied: nose>=1.3.7 in /usr/local/lib/python3.6/dist-packages (from thermoencoder->open-competition==0.1) (1.3.7)\n",
            "Requirement already satisfied: setuptools>=40.0.0 in /usr/local/lib/python3.6/dist-packages (from thermoencoder->open-competition==0.1) (51.3.3)\n",
            "Requirement already satisfied: joblib>=0.11 in /usr/local/lib/python3.6/dist-packages (from scikit-learn->open-competition==0.1) (1.0.0)\n",
            "Requirement already satisfied: pytz>=2017.2 in /usr/local/lib/python3.6/dist-packages (from pandas->open-competition==0.1) (2018.9)\n",
            "Requirement already satisfied: python-dateutil>=2.7.3 in /usr/local/lib/python3.6/dist-packages (from pandas->open-competition==0.1) (2.8.1)\n",
            "Requirement already satisfied: pyparsing>=2.0.2 in /usr/local/lib/python3.6/dist-packages (from packaging->open-competition==0.1) (2.4.7)\n",
            "Requirement already satisfied: retrying>=1.3.3 in /usr/local/lib/python3.6/dist-packages (from plotly->catboost->open-competition==0.1) (1.3.3)\n",
            "Requirement already satisfied: kiwisolver>=1.0.1 in /usr/local/lib/python3.6/dist-packages (from matplotlib->catboost->open-competition==0.1) (1.3.1)\n",
            "Requirement already satisfied: cycler>=0.10 in /usr/local/lib/python3.6/dist-packages (from matplotlib->catboost->open-competition==0.1) (0.10.0)\n",
            "Requirement already satisfied: decorator>=4.3.0 in /usr/local/lib/python3.6/dist-packages (from networkx->hyperopt->open-competition==0.1) (4.4.2)\n",
            "Building wheels for collected packages: open-competition\n",
            "  Building wheel for open-competition (setup.py) ... \u001b[?25l\u001b[?25hdone\n",
            "  Created wheel for open-competition: filename=open_competition-0.1-cp36-cp36m-linux_x86_64.whl size=3551758 sha256=291cb98b8a9986e0ac5bc73b0ba9c121c00aee0a4108f8e3e553bb5002c795a5\n",
            "  Stored in directory: /tmp/pip-ephem-wheel-cache-odq13xg2/wheels/7c/00/e9/62400be627e90fcd07373d244b8ede7e61c4e8640b5c4c5311\n",
            "Successfully built open-competition\n"
          ],
          "name": "stdout"
        }
      ]
    },
    {
      "cell_type": "code",
      "metadata": {
        "colab": {
          "base_uri": "https://localhost:8080/"
        },
        "id": "nx58J61Zl3rE",
        "outputId": "76e2a220-392a-435a-acec-3d8e0c3a9073"
      },
      "source": [
        "from open_competition.tabular.model_fitter import CATFitter,CATOpt\r\n",
        "from sklearn.model_selection import KFold\r\n",
        "kf = KFold(n_splits=5)\r\n",
        "\r\n",
        "params = CATOpt().get_common_params()\r\n",
        "params[\"thread_count\"]=8\r\n",
        "params[\"num_round\"] = 1000\r\n",
        "params[\"learning_rate\"] = 1e-6\r\n",
        "params['depth'] = 3\r\n",
        "params['bootstrap_type'] = \"MVS\"\r\n",
        "params['leaf_estimation_method'] = \"Gradient\"\r\n",
        "params[\"max_bin\"] = 100\r\n",
        "params[\"early_stopping_rounds\"]=1000\r\n",
        "print(params)\r\n",
        "train_pred, test_pred, acc_result = CATFitter().train_k_fold(k_fold=kf,train_data=df_train,test_data=df_test,params = params)\r\n",
        "acc_result = [1-acc for acc in acc_result]\r\n",
        "print(acc_result)\r\n",
        "print(sum(acc_result)/5)"
      ],
      "execution_count": null,
      "outputs": [
        {
          "output_type": "stream",
          "text": [
            "{'thread_count': 8, 'num_round': 1000, 'learning_rate': 1e-06, 'objective': 'CrossEntropy', 'eval_metric': 'Accuracy', 'depth': 2, 'bootstrap_type': 'MVS', 'leaf_estimation_method': 'Gradient', 'max_bin': 100, 'early_stopping_rounds': 1000}\n",
            "The minimum is attained in round 4\n",
            "The minimum is attained in round 2\n",
            "The minimum is attained in round 13\n",
            "The minimum is attained in round 21\n",
            "The minimum is attained in round 2\n",
            "[0.884, 0.8885, 0.8756, 0.8846, 0.8692]\n",
            "0.88038\n"
          ],
          "name": "stdout"
        }
      ]
    }
  ]
}